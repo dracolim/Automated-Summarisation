{
 "cells": [
  {
   "cell_type": "markdown",
   "id": "5cf7038f",
   "metadata": {},
   "source": [
    "How it works: \n",
    "<br> 1. Install PyTorch (python machine learning framework) and Transformer\n",
    "<br> 2. Download the Google Pegasus XSum Model\n",
    "<br> 3. Pass through a body or text and have it summarised"
   ]
  },
  {
   "cell_type": "markdown",
   "id": "719e6026",
   "metadata": {},
   "source": [
    "<h1> 0. Install Dependencies </h1>"
   ]
  },
  {
   "cell_type": "code",
   "execution_count": 1,
   "id": "d30a418e",
   "metadata": {},
   "outputs": [
    {
     "name": "stdout",
     "output_type": "stream",
     "text": [
      "Requirement already satisfied: ipykernel in /Users/cheryl_lim/opt/anaconda3/lib/python3.8/site-packages (5.3.4)\n",
      "Requirement already satisfied: jupyter-client in /Users/cheryl_lim/opt/anaconda3/lib/python3.8/site-packages (from ipykernel) (6.1.12)\n",
      "Requirement already satisfied: ipython>=5.0.0 in /Users/cheryl_lim/opt/anaconda3/lib/python3.8/site-packages (from ipykernel) (7.22.0)\n",
      "Requirement already satisfied: appnope in /Users/cheryl_lim/opt/anaconda3/lib/python3.8/site-packages (from ipykernel) (0.1.2)\n",
      "Requirement already satisfied: tornado>=4.2 in /Users/cheryl_lim/opt/anaconda3/lib/python3.8/site-packages (from ipykernel) (6.1)\n",
      "Requirement already satisfied: traitlets>=4.1.0 in /Users/cheryl_lim/opt/anaconda3/lib/python3.8/site-packages (from ipykernel) (5.0.5)\n",
      "Requirement already satisfied: pickleshare in /Users/cheryl_lim/opt/anaconda3/lib/python3.8/site-packages (from ipython>=5.0.0->ipykernel) (0.7.5)\n",
      "Requirement already satisfied: decorator in /Users/cheryl_lim/opt/anaconda3/lib/python3.8/site-packages (from ipython>=5.0.0->ipykernel) (5.0.6)\n",
      "Requirement already satisfied: setuptools>=18.5 in /Users/cheryl_lim/opt/anaconda3/lib/python3.8/site-packages (from ipython>=5.0.0->ipykernel) (52.0.0.post20210125)\n",
      "Requirement already satisfied: prompt-toolkit!=3.0.0,!=3.0.1,<3.1.0,>=2.0.0 in /Users/cheryl_lim/opt/anaconda3/lib/python3.8/site-packages (from ipython>=5.0.0->ipykernel) (3.0.17)\n",
      "Requirement already satisfied: jedi>=0.16 in /Users/cheryl_lim/opt/anaconda3/lib/python3.8/site-packages (from ipython>=5.0.0->ipykernel) (0.17.2)\n",
      "Requirement already satisfied: backcall in /Users/cheryl_lim/opt/anaconda3/lib/python3.8/site-packages (from ipython>=5.0.0->ipykernel) (0.2.0)\n",
      "Requirement already satisfied: pygments in /Users/cheryl_lim/opt/anaconda3/lib/python3.8/site-packages (from ipython>=5.0.0->ipykernel) (2.8.1)\n",
      "Requirement already satisfied: pexpect>4.3 in /Users/cheryl_lim/opt/anaconda3/lib/python3.8/site-packages (from ipython>=5.0.0->ipykernel) (4.8.0)\n",
      "Requirement already satisfied: parso<0.8.0,>=0.7.0 in /Users/cheryl_lim/opt/anaconda3/lib/python3.8/site-packages (from jedi>=0.16->ipython>=5.0.0->ipykernel) (0.7.0)\n",
      "Requirement already satisfied: ptyprocess>=0.5 in /Users/cheryl_lim/opt/anaconda3/lib/python3.8/site-packages (from pexpect>4.3->ipython>=5.0.0->ipykernel) (0.7.0)\n",
      "Requirement already satisfied: wcwidth in /Users/cheryl_lim/opt/anaconda3/lib/python3.8/site-packages (from prompt-toolkit!=3.0.0,!=3.0.1,<3.1.0,>=2.0.0->ipython>=5.0.0->ipykernel) (0.2.5)\n",
      "Requirement already satisfied: ipython-genutils in /Users/cheryl_lim/opt/anaconda3/lib/python3.8/site-packages (from traitlets>=4.1.0->ipykernel) (0.2.0)\n",
      "Requirement already satisfied: python-dateutil>=2.1 in /Users/cheryl_lim/opt/anaconda3/lib/python3.8/site-packages (from jupyter-client->ipykernel) (2.8.1)\n",
      "Requirement already satisfied: jupyter-core>=4.6.0 in /Users/cheryl_lim/opt/anaconda3/lib/python3.8/site-packages (from jupyter-client->ipykernel) (4.7.1)\n",
      "Requirement already satisfied: pyzmq>=13 in /Users/cheryl_lim/opt/anaconda3/lib/python3.8/site-packages (from jupyter-client->ipykernel) (20.0.0)\n",
      "Requirement already satisfied: six>=1.5 in /Users/cheryl_lim/opt/anaconda3/lib/python3.8/site-packages (from python-dateutil>=2.1->jupyter-client->ipykernel) (1.15.0)\n",
      "Requirement already satisfied: sentencepiece in /Users/cheryl_lim/opt/anaconda3/lib/python3.8/site-packages (0.1.97)\n",
      "Note: you may need to restart the kernel to use updated packages.\n"
     ]
    }
   ],
   "source": [
    "!pip install ipykernel\n",
    "%pip install sentencepiece"
   ]
  },
  {
   "cell_type": "code",
   "execution_count": 2,
   "id": "27ea38a9",
   "metadata": {},
   "outputs": [
    {
     "name": "stdout",
     "output_type": "stream",
     "text": [
      "Requirement already satisfied: transformers in /Users/cheryl_lim/opt/anaconda3/lib/python3.8/site-packages (4.21.1)\n",
      "Requirement already satisfied: packaging>=20.0 in /Users/cheryl_lim/opt/anaconda3/lib/python3.8/site-packages (from transformers) (20.9)\n",
      "Requirement already satisfied: filelock in /Users/cheryl_lim/opt/anaconda3/lib/python3.8/site-packages (from transformers) (3.0.12)\n",
      "Requirement already satisfied: requests in /Users/cheryl_lim/opt/anaconda3/lib/python3.8/site-packages (from transformers) (2.25.1)\n",
      "Requirement already satisfied: huggingface-hub<1.0,>=0.1.0 in /Users/cheryl_lim/opt/anaconda3/lib/python3.8/site-packages (from transformers) (0.8.1)\n",
      "Requirement already satisfied: regex!=2019.12.17 in /Users/cheryl_lim/opt/anaconda3/lib/python3.8/site-packages (from transformers) (2021.4.4)\n",
      "Requirement already satisfied: numpy>=1.17 in /Users/cheryl_lim/opt/anaconda3/lib/python3.8/site-packages (from transformers) (1.20.1)\n",
      "Requirement already satisfied: tqdm>=4.27 in /Users/cheryl_lim/opt/anaconda3/lib/python3.8/site-packages (from transformers) (4.59.0)\n",
      "Requirement already satisfied: pyyaml>=5.1 in /Users/cheryl_lim/opt/anaconda3/lib/python3.8/site-packages (from transformers) (5.4.1)\n",
      "Requirement already satisfied: tokenizers!=0.11.3,<0.13,>=0.11.1 in /Users/cheryl_lim/opt/anaconda3/lib/python3.8/site-packages (from transformers) (0.12.1)\n",
      "Requirement already satisfied: typing-extensions>=3.7.4.3 in /Users/cheryl_lim/opt/anaconda3/lib/python3.8/site-packages (from huggingface-hub<1.0,>=0.1.0->transformers) (3.7.4.3)\n",
      "Requirement already satisfied: pyparsing>=2.0.2 in /Users/cheryl_lim/opt/anaconda3/lib/python3.8/site-packages (from packaging>=20.0->transformers) (2.4.7)\n",
      "Requirement already satisfied: certifi>=2017.4.17 in /Users/cheryl_lim/opt/anaconda3/lib/python3.8/site-packages (from requests->transformers) (2020.12.5)\n",
      "Requirement already satisfied: idna<3,>=2.5 in /Users/cheryl_lim/opt/anaconda3/lib/python3.8/site-packages (from requests->transformers) (2.10)\n",
      "Requirement already satisfied: chardet<5,>=3.0.2 in /Users/cheryl_lim/opt/anaconda3/lib/python3.8/site-packages (from requests->transformers) (4.0.0)\n",
      "Requirement already satisfied: urllib3<1.27,>=1.21.1 in /Users/cheryl_lim/opt/anaconda3/lib/python3.8/site-packages (from requests->transformers) (1.26.4)\n",
      "Note: you may need to restart the kernel to use updated packages.\n"
     ]
    }
   ],
   "source": [
    "#install transformer (to use pegasus)\n",
    "%pip install transformers"
   ]
  },
  {
   "cell_type": "code",
   "execution_count": 3,
   "id": "7f923968",
   "metadata": {},
   "outputs": [
    {
     "name": "stdout",
     "output_type": "stream",
     "text": [
      "Requirement already satisfied: torch in /Users/cheryl_lim/opt/anaconda3/lib/python3.8/site-packages (1.12.1)\n",
      "Requirement already satisfied: torchvision in /Users/cheryl_lim/opt/anaconda3/lib/python3.8/site-packages (0.13.1)\n",
      "Requirement already satisfied: typing-extensions in /Users/cheryl_lim/opt/anaconda3/lib/python3.8/site-packages (from torch) (3.7.4.3)\n",
      "Requirement already satisfied: requests in /Users/cheryl_lim/opt/anaconda3/lib/python3.8/site-packages (from torchvision) (2.25.1)\n",
      "Requirement already satisfied: pillow!=8.3.*,>=5.3.0 in /Users/cheryl_lim/opt/anaconda3/lib/python3.8/site-packages (from torchvision) (8.2.0)\n",
      "Requirement already satisfied: numpy in /Users/cheryl_lim/opt/anaconda3/lib/python3.8/site-packages (from torchvision) (1.20.1)\n",
      "Requirement already satisfied: urllib3<1.27,>=1.21.1 in /Users/cheryl_lim/opt/anaconda3/lib/python3.8/site-packages (from requests->torchvision) (1.26.4)\n",
      "Requirement already satisfied: certifi>=2017.4.17 in /Users/cheryl_lim/opt/anaconda3/lib/python3.8/site-packages (from requests->torchvision) (2020.12.5)\n",
      "Requirement already satisfied: idna<3,>=2.5 in /Users/cheryl_lim/opt/anaconda3/lib/python3.8/site-packages (from requests->torchvision) (2.10)\n",
      "Requirement already satisfied: chardet<5,>=3.0.2 in /Users/cheryl_lim/opt/anaconda3/lib/python3.8/site-packages (from requests->torchvision) (4.0.0)\n",
      "Note: you may need to restart the kernel to use updated packages.\n"
     ]
    }
   ],
   "source": [
    "#install torchvision\n",
    "%pip install torch torchvision"
   ]
  },
  {
   "cell_type": "code",
   "execution_count": 2,
   "id": "fe3dc15b",
   "metadata": {},
   "outputs": [
    {
     "name": "stdout",
     "output_type": "stream",
     "text": [
      "Requirement already satisfied: torch in /Users/cheryl_lim/opt/anaconda3/lib/python3.8/site-packages (1.12.1)\n",
      "Requirement already satisfied: torchvision in /Users/cheryl_lim/opt/anaconda3/lib/python3.8/site-packages (0.13.1)\n",
      "Requirement already satisfied: typing-extensions in /Users/cheryl_lim/opt/anaconda3/lib/python3.8/site-packages (from torch) (3.7.4.3)\n",
      "Requirement already satisfied: numpy in /Users/cheryl_lim/opt/anaconda3/lib/python3.8/site-packages (from torchvision) (1.20.1)\n",
      "Requirement already satisfied: requests in /Users/cheryl_lim/opt/anaconda3/lib/python3.8/site-packages (from torchvision) (2.25.1)\n",
      "Requirement already satisfied: pillow!=8.3.*,>=5.3.0 in /Users/cheryl_lim/opt/anaconda3/lib/python3.8/site-packages (from torchvision) (8.2.0)\n",
      "Requirement already satisfied: idna<3,>=2.5 in /Users/cheryl_lim/opt/anaconda3/lib/python3.8/site-packages (from requests->torchvision) (2.10)\n",
      "Requirement already satisfied: chardet<5,>=3.0.2 in /Users/cheryl_lim/opt/anaconda3/lib/python3.8/site-packages (from requests->torchvision) (4.0.0)\n",
      "Requirement already satisfied: certifi>=2017.4.17 in /Users/cheryl_lim/opt/anaconda3/lib/python3.8/site-packages (from requests->torchvision) (2020.12.5)\n",
      "Requirement already satisfied: urllib3<1.27,>=1.21.1 in /Users/cheryl_lim/opt/anaconda3/lib/python3.8/site-packages (from requests->torchvision) (1.26.4)\n"
     ]
    }
   ],
   "source": [
    "!pip3 install torch torchvision"
   ]
  },
  {
   "cell_type": "code",
   "execution_count": 4,
   "id": "e0e94e10",
   "metadata": {},
   "outputs": [],
   "source": [
    "import torch"
   ]
  },
  {
   "cell_type": "code",
   "execution_count": 5,
   "id": "95a2345c",
   "metadata": {},
   "outputs": [
    {
     "name": "stdout",
     "output_type": "stream",
     "text": [
      "tensor([[0.0709, 0.1956, 0.2801],\n",
      "        [0.5219, 0.2817, 0.3811],\n",
      "        [0.6088, 0.8623, 0.9911],\n",
      "        [0.9824, 0.7919, 0.9403],\n",
      "        [0.4084, 0.3334, 0.3978]])\n"
     ]
    }
   ],
   "source": [
    "#check if torch is installed\n",
    "x = torch.rand(5, 3)\n",
    "print(x)"
   ]
  },
  {
   "cell_type": "markdown",
   "id": "ae143e24",
   "metadata": {},
   "source": [
    "<h1> 1. Import and Load Model </h1>"
   ]
  },
  {
   "cell_type": "code",
   "execution_count": 11,
   "id": "d5549c3e",
   "metadata": {},
   "outputs": [],
   "source": [
    "#import dependencies from transfromer\n",
    "from transformers import PegasusTokenizer"
   ]
  },
  {
   "cell_type": "code",
   "execution_count": 12,
   "id": "c4e3f0c7",
   "metadata": {},
   "outputs": [],
   "source": [
    "#create tokenizer\n",
    "tokenizer = PegasusTokenizer.from_pretrained(\"google/pegasus-xsum\")"
   ]
  },
  {
   "cell_type": "code",
   "execution_count": 7,
   "id": "df5651ef",
   "metadata": {},
   "outputs": [],
   "source": [
    "from transformers import PegasusForConditionalGeneration"
   ]
  },
  {
   "cell_type": "code",
   "execution_count": 8,
   "id": "5450e8f2",
   "metadata": {},
   "outputs": [
    {
     "data": {
      "application/vnd.jupyter.widget-view+json": {
       "model_id": "26276468b54a44af8b5f59ad935c0715",
       "version_major": 2,
       "version_minor": 0
      },
      "text/plain": [
       "Downloading pytorch_model.bin:   0%|          | 0.00/2.12G [00:00<?, ?B/s]"
      ]
     },
     "metadata": {},
     "output_type": "display_data"
    }
   ],
   "source": [
    "#load an existing model\n",
    "model = PegasusForConditionalGeneration.from_pretrained('google/pegasus-xsum')"
   ]
  },
  {
   "cell_type": "markdown",
   "id": "a80cf5c6",
   "metadata": {},
   "source": [
    "<h1> 2. Performing abstractive summarisation </h1>"
   ]
  },
  {
   "cell_type": "code",
   "execution_count": 20,
   "id": "a6e7409a",
   "metadata": {},
   "outputs": [],
   "source": [
    "#text can be changed [copy + paste]\n",
    "text = \"\"\" \n",
    "Tesla will branch out from building electric, self-driving cars to produce humanoid robots designed to “eliminate dangerous, repetitive, boring tasks” and respond to voice commands from their owners.\n",
    "\n",
    "The robot, referred to as Optimus by those inside the company, will be 173 centimetres tall and weigh 57 kilograms. Its body will be powered by 40 electromechanical actuators and its face will feature a screen display.\n",
    "\n",
    "Optimus will be able to carry a cargo of up to 20 kilograms, and Tesla’s CEO Elon Musk claims that a working prototype will be ready next year.\n",
    "\n",
    "\n",
    "Speaking at the company’s AI Day event, designed to attract engineering and research talent to the company, Musk said that much of the technology in Tesla’s self-driving cars is applicable to or useful in creating humanoid robots.\n",
    "\n",
    "“Tesla is arguably the world’s biggest robotics company because our cars are like semi-sentient robots on wheels,” he said. “It kind of makes sense to put that onto a humanoid form. We’re also quite good at sensors and batteries and actuators.”\n",
    "\"\"\""
   ]
  },
  {
   "cell_type": "code",
   "execution_count": 21,
   "id": "b59ace10",
   "metadata": {},
   "outputs": [],
   "source": [
    "#convert the text to its token (number representation of the text) representation\n",
    "tokens = tokenizer(text, truncation = True, padding = 'longest', return_tensors = 'pt')\n",
    "\n",
    "#pt = PyTorch"
   ]
  },
  {
   "cell_type": "code",
   "execution_count": 22,
   "id": "87f2760c",
   "metadata": {
    "scrolled": true
   },
   "outputs": [
    {
     "data": {
      "text/plain": [
       "{'input_ids': tensor([[11997,   138,  4444,   165,   135,   563,  2425,   108,   813,   121,\n",
       "         19008,  1732,   112,  1449, 55145, 10937,   638,   112,   185, 21375,\n",
       "           208, 22665,  3346,   108, 15345,   108,  6880,  2722,   227,   111,\n",
       "          2847,   112,  1773,  8915,   135,   153,  1721,   107,   139,  8266,\n",
       "           108,  3795,   112,   130, 58684,   141,   274,   865,   109,   301,\n",
       "           108,   138,   129, 35019, 66440,  3930,   111,  9835,  8995, 34166,\n",
       "           107,  3096,   513,   138,   129,  5335,   141,  1466,   860, 72301,\n",
       "         49435,   111,   203,   749,   138,  1048,   114,  1236,  1381,   107,\n",
       "         58684,   138,   129,   350,   112,  1635,   114,  8193,   113,   164,\n",
       "           112,   599, 34166,   108,   111, 11997,   123,   116,  2792, 32981,\n",
       "         20248,  2242,   120,   114,   375, 10435,   138,   129,   734,   352,\n",
       "           232,   107, 16157,   134,   109,   301,   123,   116,  5344,  1066,\n",
       "           455,   108,   638,   112,  4350,  2487,   111,   473,  2923,   112,\n",
       "           109,   301,   108, 20248,   243,   120,   249,   113,   109,   552,\n",
       "           115, 11997,   123,   116,   813,   121, 19008,  1732,   117,  4056,\n",
       "           112,   132,  1498,   115,  1125, 55145, 10937,   107,   185, 57253,\n",
       "           117, 12488,   109,   278,   123,   116,  1715, 18879,   301,   262,\n",
       "           150,  1732,   127,   172,  3964,   121, 25724, 23040, 10937,   124,\n",
       "          4700,   483,   178,   243,   107,   185,   362,   660,   113,   493,\n",
       "          1083,   112,   414,   120,  1656,   114, 55145,   515,   107,   184,\n",
       "           123,   216,   163,   708,   234,   134,  6646,   111,  5545,   111,\n",
       "         49435,  1181,     1]]), 'attention_mask': tensor([[1, 1, 1, 1, 1, 1, 1, 1, 1, 1, 1, 1, 1, 1, 1, 1, 1, 1, 1, 1, 1, 1, 1, 1,\n",
       "         1, 1, 1, 1, 1, 1, 1, 1, 1, 1, 1, 1, 1, 1, 1, 1, 1, 1, 1, 1, 1, 1, 1, 1,\n",
       "         1, 1, 1, 1, 1, 1, 1, 1, 1, 1, 1, 1, 1, 1, 1, 1, 1, 1, 1, 1, 1, 1, 1, 1,\n",
       "         1, 1, 1, 1, 1, 1, 1, 1, 1, 1, 1, 1, 1, 1, 1, 1, 1, 1, 1, 1, 1, 1, 1, 1,\n",
       "         1, 1, 1, 1, 1, 1, 1, 1, 1, 1, 1, 1, 1, 1, 1, 1, 1, 1, 1, 1, 1, 1, 1, 1,\n",
       "         1, 1, 1, 1, 1, 1, 1, 1, 1, 1, 1, 1, 1, 1, 1, 1, 1, 1, 1, 1, 1, 1, 1, 1,\n",
       "         1, 1, 1, 1, 1, 1, 1, 1, 1, 1, 1, 1, 1, 1, 1, 1, 1, 1, 1, 1, 1, 1, 1, 1,\n",
       "         1, 1, 1, 1, 1, 1, 1, 1, 1, 1, 1, 1, 1, 1, 1, 1, 1, 1, 1, 1, 1, 1, 1, 1,\n",
       "         1, 1, 1, 1, 1, 1, 1, 1, 1, 1, 1, 1, 1, 1, 1, 1, 1, 1, 1, 1, 1]])}"
      ]
     },
     "execution_count": 22,
     "metadata": {},
     "output_type": "execute_result"
    }
   ],
   "source": [
    "tokens"
   ]
  },
  {
   "cell_type": "code",
   "execution_count": 23,
   "id": "7cbc66f2",
   "metadata": {},
   "outputs": [],
   "source": [
    "# summarize \n",
    "#unpack tokens and generate it in the model\n",
    "summary = model.generate(**tokens)"
   ]
  },
  {
   "cell_type": "code",
   "execution_count": 24,
   "id": "d918728c",
   "metadata": {},
   "outputs": [
    {
     "data": {
      "text/plain": [
       "tensor([[    0,  6138,   439,  5921, 11997,   148, 11115,   203,   211, 55145,\n",
       "          8266,   107,     1]])"
      ]
     },
     "execution_count": 24,
     "metadata": {},
     "output_type": "execute_result"
    }
   ],
   "source": [
    "#summary in TOKENS\n",
    "summary"
   ]
  },
  {
   "cell_type": "code",
   "execution_count": 25,
   "id": "b605439f",
   "metadata": {},
   "outputs": [
    {
     "data": {
      "text/plain": [
       "'Electric car maker Tesla has unveiled its first humanoid robot.'"
      ]
     },
     "execution_count": 25,
     "metadata": {},
     "output_type": "execute_result"
    }
   ],
   "source": [
    "#Decoding to convert TOKENS to words\n",
    "tokenizer.decode(summary[0])"
   ]
  },
  {
   "cell_type": "code",
   "execution_count": null,
   "id": "e4e17418",
   "metadata": {},
   "outputs": [],
   "source": []
  }
 ],
 "metadata": {
  "kernelspec": {
   "display_name": "Python 3",
   "language": "python",
   "name": "python3"
  },
  "language_info": {
   "codemirror_mode": {
    "name": "ipython",
    "version": 3
   },
   "file_extension": ".py",
   "mimetype": "text/x-python",
   "name": "python",
   "nbconvert_exporter": "python",
   "pygments_lexer": "ipython3",
   "version": "3.8.8"
  }
 },
 "nbformat": 4,
 "nbformat_minor": 5
}
